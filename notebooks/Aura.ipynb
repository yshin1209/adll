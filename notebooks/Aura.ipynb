{
  "cells": [
    {
      "cell_type": "markdown",
      "metadata": {
        "colab_type": "text",
        "id": "view-in-github"
      },
      "source": [
        "<a href=\"https://colab.research.google.com/github/yshin1209/adll/blob/main/notebooks/Aura.ipynb\" target=\"_parent\"><img src=\"https://colab.research.google.com/assets/colab-badge.svg\" alt=\"Open In Colab\"/></a>"
      ]
    },
    {
      "cell_type": "code",
      "execution_count": 18,
      "metadata": {
        "colab": {
          "base_uri": "https://localhost:8080/"
        },
        "id": "crXzx8gvmNRN",
        "outputId": "7cb7a338-8545-49a3-f408-4e594c72c8c1"
      },
      "outputs": [
        {
          "name": "stdout",
          "output_type": "stream",
          "text": [
            "Defaulting to user installation because normal site-packages is not writeable\n",
            "Requirement already satisfied: neo4j in /home/vscode/.local/lib/python3.9/site-packages (5.3.0)\n",
            "Requirement already satisfied: pytz in /home/vscode/.local/lib/python3.9/site-packages (from neo4j) (2022.6)\n",
            "\u001b[33mWARNING: You are using pip version 22.0.4; however, version 22.3.1 is available.\n",
            "You should consider upgrading via the '/usr/local/bin/python -m pip install --upgrade pip' command.\u001b[0m\u001b[33m\n",
            "\u001b[0m"
          ]
        }
      ],
      "source": [
        "!pip install neo4j"
      ]
    },
    {
      "cell_type": "code",
      "execution_count": 19,
      "metadata": {
        "id": "9OY0Z10vmqrp"
      },
      "outputs": [],
      "source": [
        "from neo4j import GraphDatabase as graphdb"
      ]
    },
    {
      "cell_type": "markdown",
      "metadata": {
        "id": "Z8JtVqzi5ZaI"
      },
      "source": []
    },
    {
      "cell_type": "code",
      "execution_count": 25,
      "metadata": {
        "id": "fk5TuoAJtqR4"
      },
      "outputs": [],
      "source": [
        "uri = \"neo4j+s://34b10577.databases.neo4j.io\"\n",
        "user = \"neo4j\"\n",
        "password = \"A6uVT1wvZfAFLE_O9ilqxiHuDV30in887nHF-ByS_W0\""
      ]
    },
    {
      "cell_type": "code",
      "execution_count": 26,
      "metadata": {
        "id": "yme-D7rVmg5M"
      },
      "outputs": [],
      "source": [
        "class Graph:\n",
        "    # Initialize graph database class\n",
        "    def __init__(self, grapdb, uri, user, password):\n",
        "        self.driver = graphdb.driver(uri, auth=(user, password))\n",
        "\n",
        "    def close(self):\n",
        "        self.driver.close()\n",
        "\n",
        "    # Add node\n",
        "    @staticmethod\n",
        "    def _add_node_tx(tx, node_label, key, value):\n",
        "        query = \"MERGE (n:\" + node_label + \"{ \" + key + \": $value })\" \\\n",
        "                \" RETURN n{.*}\" # Return all property key value pairs\n",
        "        result = tx.run(query, value = value)\n",
        "        return result.single()[0]\n",
        "\n",
        "    def add_node(self, node_label, key, value):\n",
        "        with self.driver.session() as session:\n",
        "            result = session.execute_write(self._add_node_tx, node_label, key, value)\n",
        "            return result\n",
        "\n",
        "    # Set node property value\n",
        "    @staticmethod\n",
        "    def _set_node_prop_tx(tx, id_key, id_value, key, value):\n",
        "        query = \"MATCH (n) WHERE n.\" + id_key + \" = $id_value\" \\\n",
        "                \" SET n.\" + key + \" = $value\" \\\n",
        "                \" RETURN n\"\n",
        "        result = tx.run(query, id_value = id_value, value = value)\n",
        "        return result.single()[0]\n",
        "\n",
        "    def set_node_prop(self, id_key, id_value, key, value):\n",
        "        with self.driver.session() as session:\n",
        "            result = session.execute_write(self._set_node_prop_tx, id_key, id_value, key, value)\n",
        "            return result\n",
        "    \n",
        "    # Get node property value\n",
        "    @staticmethod\n",
        "    def _get_node_prop_tx(tx, id_key, id_value, key ):\n",
        "        query = \"MATCH (n) WHERE n.\" + id_key + \" = $id_value\" \\\n",
        "                \" RETURN n.\" + key + \" as value\"\n",
        "        result = tx.run(query, id_value = id_value)\n",
        "        return result.single()[0]\n",
        "\n",
        "    def get_node_prop(self, id_key, id_value, key):\n",
        "        with self.driver.session() as session:\n",
        "            result = session.execute_write(self._get_node_prop_tx, id_key, id_value, key)\n",
        "            return result\n",
        "\n"
      ]
    },
    {
      "cell_type": "code",
      "execution_count": 28,
      "metadata": {
        "id": "Kv0aTaD4qCJh"
      },
      "outputs": [],
      "source": [
        "g = Graph(graphdb, uri, user, password)"
      ]
    },
    {
      "cell_type": "code",
      "execution_count": 30,
      "metadata": {
        "colab": {
          "base_uri": "https://localhost:8080/"
        },
        "id": "EspuKZtEql57",
        "outputId": "2de01b70-5c80-40e0-a34f-b618b31e4a6f"
      },
      "outputs": [
        {
          "name": "stdout",
          "output_type": "stream",
          "text": [
            "{'id': 'YongJUN'}\n"
          ]
        }
      ],
      "source": [
        "print (g.add_node('Person', 'id', 'YongJUN'))"
      ]
    },
    {
      "cell_type": "code",
      "execution_count": 7,
      "metadata": {
        "colab": {
          "base_uri": "https://localhost:8080/"
        },
        "id": "p_EsK2uS5XFI",
        "outputId": "eeeaa682-5c6f-45e5-c7bf-e50bc0852814"
      },
      "outputs": [
        {
          "data": {
            "text/plain": [
              "<Node element_id='4:39b4fa34-f736-4657-87d5-9ea4e101fac4:7' labels=frozenset({'Person'}) properties={'name': 'YongJUN', 'age': 19}>"
            ]
          },
          "execution_count": 7,
          "metadata": {},
          "output_type": "execute_result"
        }
      ],
      "source": [
        "g.set_node_prop('name', 'YongJUN', 'age', 19)"
      ]
    },
    {
      "cell_type": "code",
      "execution_count": null,
      "metadata": {
        "colab": {
          "base_uri": "https://localhost:8080/",
          "height": 38
        },
        "id": "RUpinFGf2T5I",
        "outputId": "1f2077df-9050-4a14-ebe9-24dc209bb3c3"
      },
      "outputs": [
        {
          "data": {
            "application/vnd.google.colaboratory.intrinsic+json": {
              "type": "string"
            },
            "text/plain": [
              "'YongJUN'"
            ]
          },
          "execution_count": 121,
          "metadata": {},
          "output_type": "execute_result"
        }
      ],
      "source": [
        "g.get_node_prop('name', 'YongJUN', 'name')"
      ]
    },
    {
      "cell_type": "code",
      "execution_count": null,
      "metadata": {
        "id": "Qe2anAhw4D71"
      },
      "outputs": [],
      "source": [
        "# Add node\n",
        "def add_node_tx(tx, node_label, key, value):\n",
        "    query = \"MERGE (:\" + node_label + \"{ \" + key + \": $value })\"\n",
        "    tx.run(query, value = value)\n",
        "def add_node(label, key, value):\n",
        "    with driver.session() as session:\n",
        "        session.execute_write(add_node_tx, label, key, value)\n",
        "\n",
        "# Get node property value\n",
        "def get_node_prop_tx(tx, id_key, id_value, key ):\n",
        "    query = \"MATCH (n) WHERE n.\" + id_key + \" = $id_value\" \\\n",
        "            \" RETURN n.\" + key + \" as value\"\n",
        "    tx.run(query, id_value = id_value)\n",
        "    for record in result:\n",
        "      return (record[\"value\"])\n",
        "def get_node_prop(key1, value1, key2):\n",
        "    with driver.session() as session:\n",
        "        result = session.execute_write(get_node_prop_tx, key1, value1, key2)\n",
        "        return result\n",
        "\n",
        "# Update node property value\n",
        "def update_node_prop_tx(tx, id_key, id_value, key, value):\n",
        "    query = \"MATCH (n) WHERE n.\" + id_key + \" = $id_value\" \\\n",
        "            \" SET n.\" + key + \" = $value\" \n",
        "    tx.run(query, id_value = id_value, value = value)\n",
        "def update_node_prop(id_key, id_value, key, valu):\n",
        "    with driver.session() as session:\n",
        "        session.execute_write(update_node_prop_tx, id_key, id_value, key, valu)\n",
        "\n",
        "# Update edge property value\n",
        "def update_edge_prop_tx(tx, out_key, out_val, in_key, in_val, edge_key, edge_val):\n",
        "    query = \"MATCH (n) WHERE n.\" + out_key + \" = $out_val\" \\\n",
        "            \" MATCH (m) WHERE m.\" + in_key + \" = $in_val\" \\\n",
        "            \" MATCH (n)-[r]->(m)\" \\\n",
        "            \" SET r.\" + edge_key + \" = $edge_val\" \n",
        "    tx.run(query, out_val = out_val, in_val = in_val, edge_val = edge_val)\n",
        "def update_edge_prop(out_key, out_val, in_key, in_val, edge_key, edge_val):\n",
        "    with driver.session() as session:\n",
        "        session.execute_write(update_edge_prop_tx, out_key, out_val, in_key, in_val, edge_key, edge_val)\n",
        "\n",
        "# Add edge\n",
        "def add_edge_tx(tx, edge_label, out_key, out_val, in_key, in_val):\n",
        "    query = \"MATCH (n) WHERE n.\" + out_key + \" = $out_val\" \\\n",
        "            \" MATCH (m) WHERE m.\" + in_key + \" = $in_val\" \\\n",
        "            \" MERGE (n)-[r:\" + edge_label + \"]->(m)\"\n",
        "    results = tx.run(query, out_val = out_val, in_val = in_val).data\n",
        "    return results\n",
        "def add_edge(edge_label, out_key, out_val, in_key, in_val):\n",
        "    with driver.session() as session:\n",
        "        results = session.execute_write(add_edge_tx, edge_label, out_key, out_val, in_key, in_val)\n",
        "        print (results)\n",
        "\n",
        "# Delete edge\n",
        "def delete_edge_tx(tx, edge_label, out_key, out_val, in_key, in_val):\n",
        "    query = \"MATCH (n) WHERE n.\" + out_key + \" = $out_val\" \\\n",
        "            \" MATCH (m) WHERE m.\" + in_key + \" = $in_val\" \\\n",
        "            \" MATCH (n)-[r:\" + edge_label + \"]->(m)\" \\\n",
        "            \" DELETE r\" \n",
        "    tx.run(query, out_val = out_val, in_val = in_val)\n",
        "def delete_edge(edge_label, out_key, out_val, in_key, in_val):\n",
        "    with driver.session() as session:\n",
        "        session.execute_write(delete_edge_tx, edge_label, out_key, out_val, in_key, in_val)\n",
        "\n",
        "# Delete all\n",
        "def delete_all_tx(tx):\n",
        "    query = \"MATCH (n) DETACH DELETE n\"\n",
        "    tx.run(query)\n",
        "def delete_all():\n",
        "    with driver.session() as session:\n",
        "        session.execute_write(delete_all_tx)\n",
        "\n",
        "# Execute math operation\n",
        "def math_op_tx(tx, key, value):\n",
        "    query = \"MATCH (x) WHERE x.\" + key + \" = $value\" \\\n",
        "            \" MATCH (x) -[:D2OP]-> (op) <-[:P2OP]-(w)\" \\\n",
        "            \" WITH op,\" \\\n",
        "            \" CASE op.name\" \\\n",
        "            \" WHEN 'add' THEN x.value+w.value\" \\\n",
        "            \" WHEN 'mul' THEN x.value*w.value\" \\\n",
        "            \" END AS result\" \\\n",
        "            \" MATCH (op)-[:OP2D]->(y)\" \\\n",
        "            \" SET y.value = result\" \\\n",
        "            \" RETURN y.name as name\"\n",
        "    result = tx.run(query, value = value)\n",
        "    for record in result:\n",
        "      return (record[\"name\"])\n",
        "def math_op(key, value):\n",
        "    with driver.session() as session:\n",
        "        result = session.execute_write(math_op_tx, key, value)\n",
        "    return result"
      ]
    },
    {
      "cell_type": "code",
      "execution_count": null,
      "metadata": {
        "colab": {
          "base_uri": "https://localhost:8080/"
        },
        "id": "IG_2fHRyJI0o",
        "outputId": "372e44f8-1ef0-4638-debc-c86bb119b541"
      },
      "outputs": [
        {
          "name": "stdout",
          "output_type": "stream",
          "text": [
            "<bound method Result.data of <neo4j._sync.work.result.Result object at 0x7f7fcc85f810>>\n"
          ]
        }
      ],
      "source": [
        "add_edge('state_transition', 'name', 's3', 'name', 's4')"
      ]
    },
    {
      "cell_type": "code",
      "execution_count": null,
      "metadata": {
        "id": "B6hRmrYpu0j9"
      },
      "outputs": [],
      "source": [
        "delete_edge('D2OP', 'name', 'x', 'name', 'mul')"
      ]
    },
    {
      "cell_type": "markdown",
      "metadata": {
        "id": "d03ICH3z6g2D"
      },
      "source": []
    },
    {
      "cell_type": "code",
      "execution_count": null,
      "metadata": {
        "id": "9hBcFxwToZc1"
      },
      "outputs": [],
      "source": [
        "update_node_prop('name', 's3', 'reward', 0)"
      ]
    },
    {
      "cell_type": "code",
      "execution_count": null,
      "metadata": {
        "colab": {
          "base_uri": "https://localhost:8080/"
        },
        "id": "RL0DuCHRtcIv",
        "outputId": "d0e3c4bd-568a-42ef-d0d8-6bb2f88aedf3"
      },
      "outputs": [
        {
          "data": {
            "text/plain": [
              "-100"
            ]
          },
          "execution_count": 37,
          "metadata": {},
          "output_type": "execute_result"
        }
      ],
      "source": [
        "get_node_prop('name', 's2', 'reward')"
      ]
    },
    {
      "cell_type": "code",
      "execution_count": null,
      "metadata": {
        "id": "pPD51Jm5zqVE"
      },
      "outputs": [],
      "source": [
        "update_edge_prop('name', 's1', 'name', 's3',  'name', 'st2')"
      ]
    },
    {
      "cell_type": "markdown",
      "metadata": {
        "id": "vL25q5VCtb87"
      },
      "source": []
    },
    {
      "cell_type": "code",
      "execution_count": null,
      "metadata": {
        "id": "xP9QUlvpI-2V"
      },
      "outputs": [],
      "source": [
        "add_node('State', 'name', 's4')"
      ]
    },
    {
      "cell_type": "code",
      "execution_count": null,
      "metadata": {
        "id": "pwXbVfJa1g-p"
      },
      "outputs": [],
      "source": []
    },
    {
      "cell_type": "code",
      "execution_count": null,
      "metadata": {
        "id": "tP2Jnll_EDXZ"
      },
      "outputs": [],
      "source": [
        "delete_all()"
      ]
    },
    {
      "cell_type": "code",
      "execution_count": null,
      "metadata": {
        "colab": {
          "base_uri": "https://localhost:8080/"
        },
        "id": "f-3d7e2o0M3p",
        "outputId": "15a6f110-9d7f-4194-f4d3-721ad1aacc01"
      },
      "outputs": [
        {
          "name": "stdout",
          "output_type": "stream",
          "text": [
            "y\n",
            "y2\n"
          ]
        }
      ],
      "source": [
        "result = math_op('name', 'x')\n",
        "print (result)\n",
        "result2 = math_op('name', result)\n",
        "print (result2)"
      ]
    },
    {
      "cell_type": "code",
      "execution_count": null,
      "metadata": {
        "id": "zwQ6frhiTjD1"
      },
      "outputs": [],
      "source": [
        "result = math_op('name', 'x')\n",
        "while True:\n",
        "  result = math_op('name', result)\n",
        "  if result == None:\n",
        "    break"
      ]
    },
    {
      "cell_type": "code",
      "execution_count": null,
      "metadata": {
        "id": "RHGNLzGP6fLU"
      },
      "outputs": [],
      "source": [
        "N = 1000\n",
        "for age in range(1,N):\n",
        "  add_node('Person', 'age', age)"
      ]
    },
    {
      "cell_type": "code",
      "execution_count": null,
      "metadata": {
        "colab": {
          "base_uri": "https://localhost:8080/",
          "height": 364
        },
        "id": "NWr4DcZqm_gM",
        "outputId": "53a6f18f-56e9-4d73-b3ec-de5cf451b7e4"
      },
      "outputs": [
        {
          "ename": "ClientError",
          "evalue": "ignored",
          "output_type": "error",
          "traceback": [
            "\u001b[0;31m---------------------------------------------------------------------------\u001b[0m",
            "\u001b[0;31mClientError\u001b[0m                               Traceback (most recent call last)",
            "\u001b[0;32m<ipython-input-31-eb7e6b746f45>\u001b[0m in \u001b[0;36m<module>\u001b[0;34m\u001b[0m\n\u001b[1;32m     11\u001b[0m \u001b[0;32mwith\u001b[0m \u001b[0mdriver\u001b[0m\u001b[0;34m.\u001b[0m\u001b[0msession\u001b[0m\u001b[0;34m(\u001b[0m\u001b[0;34m)\u001b[0m \u001b[0;32mas\u001b[0m \u001b[0msession\u001b[0m\u001b[0;34m:\u001b[0m\u001b[0;34m\u001b[0m\u001b[0;34m\u001b[0m\u001b[0m\n\u001b[1;32m     12\u001b[0m     \u001b[0;31m# Use .data() to access the results array\u001b[0m\u001b[0;34m\u001b[0m\u001b[0;34m\u001b[0m\u001b[0;34m\u001b[0m\u001b[0m\n\u001b[0;32m---> 13\u001b[0;31m     \u001b[0mresults\u001b[0m \u001b[0;34m=\u001b[0m \u001b[0msession\u001b[0m\u001b[0;34m.\u001b[0m\u001b[0mrun\u001b[0m\u001b[0;34m(\u001b[0m\u001b[0mquery\u001b[0m\u001b[0;34m)\u001b[0m\u001b[0;34m.\u001b[0m\u001b[0mdata\u001b[0m\u001b[0;34m(\u001b[0m\u001b[0;34m)\u001b[0m\u001b[0;34m\u001b[0m\u001b[0;34m\u001b[0m\u001b[0m\n\u001b[0m\u001b[1;32m     14\u001b[0m     \u001b[0mprint\u001b[0m\u001b[0;34m(\u001b[0m\u001b[0mresults\u001b[0m\u001b[0;34m)\u001b[0m\u001b[0;34m\u001b[0m\u001b[0;34m\u001b[0m\u001b[0m\n",
            "\u001b[0;32m/usr/local/lib/python3.7/dist-packages/neo4j/_sync/work/session.py\u001b[0m in \u001b[0;36mrun\u001b[0;34m(self, query, parameters, **kwargs)\u001b[0m\n\u001b[1;32m    295\u001b[0m             \u001b[0mquery\u001b[0m\u001b[0;34m,\u001b[0m \u001b[0mparameters\u001b[0m\u001b[0;34m,\u001b[0m \u001b[0mself\u001b[0m\u001b[0;34m.\u001b[0m\u001b[0m_config\u001b[0m\u001b[0;34m.\u001b[0m\u001b[0mdatabase\u001b[0m\u001b[0;34m,\u001b[0m\u001b[0;34m\u001b[0m\u001b[0;34m\u001b[0m\u001b[0m\n\u001b[1;32m    296\u001b[0m             \u001b[0mself\u001b[0m\u001b[0;34m.\u001b[0m\u001b[0m_config\u001b[0m\u001b[0;34m.\u001b[0m\u001b[0mimpersonated_user\u001b[0m\u001b[0;34m,\u001b[0m \u001b[0mself\u001b[0m\u001b[0;34m.\u001b[0m\u001b[0m_config\u001b[0m\u001b[0;34m.\u001b[0m\u001b[0mdefault_access_mode\u001b[0m\u001b[0;34m,\u001b[0m\u001b[0;34m\u001b[0m\u001b[0;34m\u001b[0m\u001b[0m\n\u001b[0;32m--> 297\u001b[0;31m             \u001b[0mbookmarks\u001b[0m\u001b[0;34m\u001b[0m\u001b[0;34m\u001b[0m\u001b[0m\n\u001b[0m\u001b[1;32m    298\u001b[0m         )\n\u001b[1;32m    299\u001b[0m \u001b[0;34m\u001b[0m\u001b[0m\n",
            "\u001b[0;32m/usr/local/lib/python3.7/dist-packages/neo4j/_sync/work/result.py\u001b[0m in \u001b[0;36m_run\u001b[0;34m(self, query, parameters, db, imp_user, access_mode, bookmarks)\u001b[0m\n\u001b[1;32m    159\u001b[0m         \u001b[0mself\u001b[0m\u001b[0;34m.\u001b[0m\u001b[0m_pull\u001b[0m\u001b[0;34m(\u001b[0m\u001b[0;34m)\u001b[0m\u001b[0;34m\u001b[0m\u001b[0;34m\u001b[0m\u001b[0m\n\u001b[1;32m    160\u001b[0m         \u001b[0mself\u001b[0m\u001b[0;34m.\u001b[0m\u001b[0m_connection\u001b[0m\u001b[0;34m.\u001b[0m\u001b[0msend_all\u001b[0m\u001b[0;34m(\u001b[0m\u001b[0;34m)\u001b[0m\u001b[0;34m\u001b[0m\u001b[0;34m\u001b[0m\u001b[0m\n\u001b[0;32m--> 161\u001b[0;31m         \u001b[0mself\u001b[0m\u001b[0;34m.\u001b[0m\u001b[0m_attach\u001b[0m\u001b[0;34m(\u001b[0m\u001b[0;34m)\u001b[0m\u001b[0;34m\u001b[0m\u001b[0;34m\u001b[0m\u001b[0m\n\u001b[0m\u001b[1;32m    162\u001b[0m \u001b[0;34m\u001b[0m\u001b[0m\n\u001b[1;32m    163\u001b[0m     \u001b[0;32mdef\u001b[0m \u001b[0m_pull\u001b[0m\u001b[0;34m(\u001b[0m\u001b[0mself\u001b[0m\u001b[0;34m)\u001b[0m\u001b[0;34m:\u001b[0m\u001b[0;34m\u001b[0m\u001b[0;34m\u001b[0m\u001b[0m\n",
            "\u001b[0;32m/usr/local/lib/python3.7/dist-packages/neo4j/_sync/work/result.py\u001b[0m in \u001b[0;36m_attach\u001b[0;34m(self)\u001b[0m\n\u001b[1;32m    267\u001b[0m         \u001b[0;32mif\u001b[0m \u001b[0mself\u001b[0m\u001b[0;34m.\u001b[0m\u001b[0m_exhausted\u001b[0m \u001b[0;32mis\u001b[0m \u001b[0;32mFalse\u001b[0m\u001b[0;34m:\u001b[0m\u001b[0;34m\u001b[0m\u001b[0;34m\u001b[0m\u001b[0m\n\u001b[1;32m    268\u001b[0m             \u001b[0;32mwhile\u001b[0m \u001b[0mself\u001b[0m\u001b[0;34m.\u001b[0m\u001b[0m_attached\u001b[0m \u001b[0;32mis\u001b[0m \u001b[0;32mFalse\u001b[0m\u001b[0;34m:\u001b[0m\u001b[0;34m\u001b[0m\u001b[0;34m\u001b[0m\u001b[0m\n\u001b[0;32m--> 269\u001b[0;31m                 \u001b[0mself\u001b[0m\u001b[0;34m.\u001b[0m\u001b[0m_connection\u001b[0m\u001b[0;34m.\u001b[0m\u001b[0mfetch_message\u001b[0m\u001b[0;34m(\u001b[0m\u001b[0;34m)\u001b[0m\u001b[0;34m\u001b[0m\u001b[0;34m\u001b[0m\u001b[0m\n\u001b[0m\u001b[1;32m    270\u001b[0m \u001b[0;34m\u001b[0m\u001b[0m\n\u001b[1;32m    271\u001b[0m     \u001b[0;32mdef\u001b[0m \u001b[0m_buffer\u001b[0m\u001b[0;34m(\u001b[0m\u001b[0mself\u001b[0m\u001b[0;34m,\u001b[0m \u001b[0mn\u001b[0m\u001b[0;34m=\u001b[0m\u001b[0;32mNone\u001b[0m\u001b[0;34m)\u001b[0m\u001b[0;34m:\u001b[0m\u001b[0;34m\u001b[0m\u001b[0;34m\u001b[0m\u001b[0m\n",
            "\u001b[0;32m/usr/local/lib/python3.7/dist-packages/neo4j/_sync/io/_common.py\u001b[0m in \u001b[0;36minner\u001b[0;34m(*args, **kwargs)\u001b[0m\n\u001b[1;32m    178\u001b[0m             \u001b[0;32mdef\u001b[0m \u001b[0minner\u001b[0m\u001b[0;34m(\u001b[0m\u001b[0;34m*\u001b[0m\u001b[0margs\u001b[0m\u001b[0;34m,\u001b[0m \u001b[0;34m**\u001b[0m\u001b[0mkwargs\u001b[0m\u001b[0;34m)\u001b[0m\u001b[0;34m:\u001b[0m\u001b[0;34m\u001b[0m\u001b[0;34m\u001b[0m\u001b[0m\n\u001b[1;32m    179\u001b[0m                 \u001b[0;32mtry\u001b[0m\u001b[0;34m:\u001b[0m\u001b[0;34m\u001b[0m\u001b[0;34m\u001b[0m\u001b[0m\n\u001b[0;32m--> 180\u001b[0;31m                     \u001b[0mfunc\u001b[0m\u001b[0;34m(\u001b[0m\u001b[0;34m*\u001b[0m\u001b[0margs\u001b[0m\u001b[0;34m,\u001b[0m \u001b[0;34m**\u001b[0m\u001b[0mkwargs\u001b[0m\u001b[0;34m)\u001b[0m\u001b[0;34m\u001b[0m\u001b[0;34m\u001b[0m\u001b[0m\n\u001b[0m\u001b[1;32m    181\u001b[0m                 \u001b[0;32mexcept\u001b[0m \u001b[0;34m(\u001b[0m\u001b[0mNeo4jError\u001b[0m\u001b[0;34m,\u001b[0m \u001b[0mServiceUnavailable\u001b[0m\u001b[0;34m,\u001b[0m \u001b[0mSessionExpired\u001b[0m\u001b[0;34m)\u001b[0m \u001b[0;32mas\u001b[0m \u001b[0mexc\u001b[0m\u001b[0;34m:\u001b[0m\u001b[0;34m\u001b[0m\u001b[0;34m\u001b[0m\u001b[0m\n\u001b[1;32m    182\u001b[0m                     \u001b[0;32massert\u001b[0m \u001b[0;32mnot\u001b[0m \u001b[0masyncio\u001b[0m\u001b[0;34m.\u001b[0m\u001b[0miscoroutinefunction\u001b[0m\u001b[0;34m(\u001b[0m\u001b[0mself\u001b[0m\u001b[0;34m.\u001b[0m\u001b[0m__on_error\u001b[0m\u001b[0;34m)\u001b[0m\u001b[0;34m\u001b[0m\u001b[0;34m\u001b[0m\u001b[0m\n",
            "\u001b[0;32m/usr/local/lib/python3.7/dist-packages/neo4j/_sync/io/_bolt.py\u001b[0m in \u001b[0;36mfetch_message\u001b[0;34m(self)\u001b[0m\n\u001b[1;32m    657\u001b[0m             \u001b[0mhydration_hooks\u001b[0m\u001b[0;34m=\u001b[0m\u001b[0mself\u001b[0m\u001b[0;34m.\u001b[0m\u001b[0mresponses\u001b[0m\u001b[0;34m[\u001b[0m\u001b[0;36m0\u001b[0m\u001b[0;34m]\u001b[0m\u001b[0;34m.\u001b[0m\u001b[0mhydration_hooks\u001b[0m\u001b[0;34m\u001b[0m\u001b[0;34m\u001b[0m\u001b[0m\n\u001b[1;32m    658\u001b[0m         )\n\u001b[0;32m--> 659\u001b[0;31m         \u001b[0mres\u001b[0m \u001b[0;34m=\u001b[0m \u001b[0mself\u001b[0m\u001b[0;34m.\u001b[0m\u001b[0m_process_message\u001b[0m\u001b[0;34m(\u001b[0m\u001b[0mtag\u001b[0m\u001b[0;34m,\u001b[0m \u001b[0mfields\u001b[0m\u001b[0;34m)\u001b[0m\u001b[0;34m\u001b[0m\u001b[0;34m\u001b[0m\u001b[0m\n\u001b[0m\u001b[1;32m    660\u001b[0m         \u001b[0mself\u001b[0m\u001b[0;34m.\u001b[0m\u001b[0midle_since\u001b[0m \u001b[0;34m=\u001b[0m \u001b[0mperf_counter\u001b[0m\u001b[0;34m(\u001b[0m\u001b[0;34m)\u001b[0m\u001b[0;34m\u001b[0m\u001b[0;34m\u001b[0m\u001b[0m\n\u001b[1;32m    661\u001b[0m         \u001b[0;32mreturn\u001b[0m \u001b[0mres\u001b[0m\u001b[0;34m\u001b[0m\u001b[0;34m\u001b[0m\u001b[0m\n",
            "\u001b[0;32m/usr/local/lib/python3.7/dist-packages/neo4j/_sync/io/_bolt5.py\u001b[0m in \u001b[0;36m_process_message\u001b[0;34m(self, tag, fields)\u001b[0m\n\u001b[1;32m    315\u001b[0m             \u001b[0mself\u001b[0m\u001b[0;34m.\u001b[0m\u001b[0m_server_state_manager\u001b[0m\u001b[0;34m.\u001b[0m\u001b[0mstate\u001b[0m \u001b[0;34m=\u001b[0m \u001b[0mServerStates\u001b[0m\u001b[0;34m.\u001b[0m\u001b[0mFAILED\u001b[0m\u001b[0;34m\u001b[0m\u001b[0;34m\u001b[0m\u001b[0m\n\u001b[1;32m    316\u001b[0m             \u001b[0;32mtry\u001b[0m\u001b[0;34m:\u001b[0m\u001b[0;34m\u001b[0m\u001b[0;34m\u001b[0m\u001b[0m\n\u001b[0;32m--> 317\u001b[0;31m                 \u001b[0mresponse\u001b[0m\u001b[0;34m.\u001b[0m\u001b[0mon_failure\u001b[0m\u001b[0;34m(\u001b[0m\u001b[0msummary_metadata\u001b[0m \u001b[0;32mor\u001b[0m \u001b[0;34m{\u001b[0m\u001b[0;34m}\u001b[0m\u001b[0;34m)\u001b[0m\u001b[0;34m\u001b[0m\u001b[0;34m\u001b[0m\u001b[0m\n\u001b[0m\u001b[1;32m    318\u001b[0m             \u001b[0;32mexcept\u001b[0m \u001b[0;34m(\u001b[0m\u001b[0mServiceUnavailable\u001b[0m\u001b[0;34m,\u001b[0m \u001b[0mDatabaseUnavailable\u001b[0m\u001b[0;34m)\u001b[0m\u001b[0;34m:\u001b[0m\u001b[0;34m\u001b[0m\u001b[0;34m\u001b[0m\u001b[0m\n\u001b[1;32m    319\u001b[0m                 \u001b[0;32mif\u001b[0m \u001b[0mself\u001b[0m\u001b[0;34m.\u001b[0m\u001b[0mpool\u001b[0m\u001b[0;34m:\u001b[0m\u001b[0;34m\u001b[0m\u001b[0;34m\u001b[0m\u001b[0m\n",
            "\u001b[0;32m/usr/local/lib/python3.7/dist-packages/neo4j/_sync/io/_common.py\u001b[0m in \u001b[0;36mon_failure\u001b[0;34m(self, metadata)\u001b[0m\n\u001b[1;32m    245\u001b[0m         \u001b[0mhandler\u001b[0m \u001b[0;34m=\u001b[0m \u001b[0mself\u001b[0m\u001b[0;34m.\u001b[0m\u001b[0mhandlers\u001b[0m\u001b[0;34m.\u001b[0m\u001b[0mget\u001b[0m\u001b[0;34m(\u001b[0m\u001b[0;34m\"on_summary\"\u001b[0m\u001b[0;34m)\u001b[0m\u001b[0;34m\u001b[0m\u001b[0;34m\u001b[0m\u001b[0m\n\u001b[1;32m    246\u001b[0m         \u001b[0mUtil\u001b[0m\u001b[0;34m.\u001b[0m\u001b[0mcallback\u001b[0m\u001b[0;34m(\u001b[0m\u001b[0mhandler\u001b[0m\u001b[0;34m)\u001b[0m\u001b[0;34m\u001b[0m\u001b[0;34m\u001b[0m\u001b[0m\n\u001b[0;32m--> 247\u001b[0;31m         \u001b[0;32mraise\u001b[0m \u001b[0mNeo4jError\u001b[0m\u001b[0;34m.\u001b[0m\u001b[0mhydrate\u001b[0m\u001b[0;34m(\u001b[0m\u001b[0;34m**\u001b[0m\u001b[0mmetadata\u001b[0m\u001b[0;34m)\u001b[0m\u001b[0;34m\u001b[0m\u001b[0;34m\u001b[0m\u001b[0m\n\u001b[0m\u001b[1;32m    248\u001b[0m \u001b[0;34m\u001b[0m\u001b[0m\n\u001b[1;32m    249\u001b[0m     \u001b[0;32mdef\u001b[0m \u001b[0mon_ignored\u001b[0m\u001b[0;34m(\u001b[0m\u001b[0mself\u001b[0m\u001b[0;34m,\u001b[0m \u001b[0mmetadata\u001b[0m\u001b[0;34m=\u001b[0m\u001b[0;32mNone\u001b[0m\u001b[0;34m)\u001b[0m\u001b[0;34m:\u001b[0m\u001b[0;34m\u001b[0m\u001b[0;34m\u001b[0m\u001b[0m\n",
            "\u001b[0;31mClientError\u001b[0m: {code: Neo.ClientError.Statement.ParameterMissing} {message: Expected parameter(s): name1}"
          ]
        }
      ],
      "source": [
        "#name2 = 'Jun'\n",
        "# Cypher query\n",
        "query = \"\"\"\n",
        "  match (n:Person {name: $name1})\n",
        "  match (m:Person {name: 'So'})\n",
        "  merge (n)-[r:knows]-> (m)\n",
        "  return n, r, m\n",
        "\"\"\"\n",
        "\n",
        "# Create a driver session\n",
        "with driver.session() as session:\n",
        "    # Use .data() to access the results array\n",
        "    results = session.run(query, 'Jun2').data()\n",
        "    print(results)"
      ]
    },
    {
      "cell_type": "code",
      "execution_count": null,
      "metadata": {
        "colab": {
          "base_uri": "https://localhost:8080/"
        },
        "id": "DGImlm4a-4tp",
        "outputId": "fcc97900-4b7b-4c57-99c4-68a25513b4aa"
      },
      "outputs": [
        {
          "name": "stdout",
          "output_type": "stream",
          "text": [
            "n {'name': 'Jun'}\n",
            "r ({'name': 'Jun'}, 'knows', {'name': 'So'})\n",
            "m {'name': 'So'}\n"
          ]
        }
      ],
      "source": [
        "# Search all nodes\n",
        "for key, value in results[0].items():\n",
        "  print (key, value)"
      ]
    },
    {
      "cell_type": "code",
      "execution_count": null,
      "metadata": {
        "id": "RbKdC_QDGh4f"
      },
      "outputs": [],
      "source": [
        "def create_person(tx, name):\n",
        "    tx.run(\"CREATE (a:Person {name: $name})\", name=name)\n",
        "\n",
        "def create_friend_of(tx, name, friend):\n",
        "    tx.run(\"MATCH (a:Person) WHERE a.name = $name \"\n",
        "           \"CREATE (a)-[:KNOWS]->(:Person {name: $friend})\",\n",
        "           name=name, friend=friend)\n",
        "\n",
        "with driver.session() as session:\n",
        "    session.execute_write(create_person, \"Alice\")\n",
        "    session.execute_write(create_friend_of, \"Alice\", \"Bob\")\n",
        "    session.execute_write(create_friend_of, \"Alice\", \"Carl\")\n",
        "\n",
        "driver.close()"
      ]
    },
    {
      "cell_type": "code",
      "execution_count": null,
      "metadata": {
        "colab": {
          "base_uri": "https://localhost:8080/"
        },
        "id": "X-EcxAdfI_0v",
        "outputId": "6296e8ed-c55d-4187-edc9-1d6b43982ebf"
      },
      "outputs": [
        {
          "name": "stdout",
          "output_type": "stream",
          "text": [
            "Bob\n",
            "Carl\n"
          ]
        }
      ],
      "source": [
        "def get_friends_of(tx, name):\n",
        "    friends = []\n",
        "    result = tx.run(\"MATCH (a:Person)-[:KNOWS]->(f) \"\n",
        "                    \"WHERE a.name = $name \"\n",
        "                    \"RETURN f.name AS friend\", name=name)\n",
        "    for record in result:\n",
        "        friends.append(record[\"friend\"])\n",
        "    return friends\n",
        "\n",
        "with driver.session() as session:\n",
        "    friends = session.execute_read(get_friends_of, \"Alice\")\n",
        "    for friend in friends:\n",
        "        print(friend)\n",
        "\n",
        "driver.close()"
      ]
    }
  ],
  "metadata": {
    "colab": {
      "authorship_tag": "ABX9TyM+QVgtC6A6H825DrhLpP75",
      "include_colab_link": true,
      "provenance": []
    },
    "kernelspec": {
      "display_name": "Python 3.9.15 64-bit",
      "language": "python",
      "name": "python3"
    },
    "language_info": {
      "codemirror_mode": {
        "name": "ipython",
        "version": 3
      },
      "file_extension": ".py",
      "mimetype": "text/x-python",
      "name": "python",
      "nbconvert_exporter": "python",
      "pygments_lexer": "ipython3",
      "version": "3.9.15"
    },
    "vscode": {
      "interpreter": {
        "hash": "949777d72b0d2535278d3dc13498b2535136f6dfe0678499012e853ee9abcab1"
      }
    }
  },
  "nbformat": 4,
  "nbformat_minor": 0
}
