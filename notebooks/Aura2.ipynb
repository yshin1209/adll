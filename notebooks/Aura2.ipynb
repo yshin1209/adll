{
  "cells": [
    {
      "cell_type": "markdown",
      "metadata": {
        "colab_type": "text",
        "id": "view-in-github"
      },
      "source": [
        "<a href=\"https://colab.research.google.com/github/yshin1209/adll/blob/main/Aura2.ipynb\" target=\"_parent\"><img src=\"https://colab.research.google.com/assets/colab-badge.svg\" alt=\"Open In Colab\"/></a>"
      ]
    },
    {
      "cell_type": "code",
      "execution_count": 1,
      "metadata": {
        "colab": {
          "base_uri": "https://localhost:8080/"
        },
        "id": "dpf1OSsExoQy",
        "outputId": "33e8a3ab-a5d9-40c5-a658-c5f2fa140d37"
      },
      "outputs": [
        {
          "name": "stdout",
          "output_type": "stream",
          "text": [
            "Defaulting to user installation because normal site-packages is not writeable\n",
            "Looking in indexes: https://test.pypi.org/simple/\n",
            "Requirement already satisfied: adll-dev==0.0.8 in /home/vscode/.local/lib/python3.9/site-packages (0.0.8)\n",
            "\u001b[33mWARNING: You are using pip version 22.0.4; however, version 22.3.1 is available.\n",
            "You should consider upgrading via the '/usr/local/bin/python -m pip install --upgrade pip' command.\u001b[0m\u001b[33m\n",
            "\u001b[0mNote: you may need to restart the kernel to use updated packages.\n"
          ]
        }
      ],
      "source": [
        "%pip install -i https://test.pypi.org/simple/ adll-dev==0.0.8\n"
      ]
    },
    {
      "cell_type": "code",
      "execution_count": 2,
      "metadata": {
        "id": "VhCsdbT7x54i"
      },
      "outputs": [],
      "source": [
        "from neo4j import GraphDatabase as graphdb\n",
        "from adll import graph"
      ]
    },
    {
      "cell_type": "markdown",
      "metadata": {
        "id": "5iHrOw7QyvGP"
      },
      "source": []
    },
    {
      "cell_type": "code",
      "execution_count": 3,
      "metadata": {
        "id": "4kS2UGN8ygcZ"
      },
      "outputs": [],
      "source": [
        "URI = \"neo4j+s://34b10577.databases.neo4j.io\"\n",
        "USER = \"neo4j\"\n",
        "PASSWORD = \"A6uVT1wvZfAFLE_O9ilqxiHuDV30in887nHF-ByS_W0\"\n",
        "g = graph.Graph(graphdb, URI, USER, PASSWORD)"
      ]
    },
    {
      "cell_type": "code",
      "execution_count": 17,
      "metadata": {},
      "outputs": [
        {
          "data": {
            "text/plain": [
              "{'name': 'Juno'}"
            ]
          },
          "execution_count": 17,
          "metadata": {},
          "output_type": "execute_result"
        }
      ],
      "source": [
        "g.add_node ('Person', 'name', 'Juno')\n"
      ]
    },
    {
      "cell_type": "code",
      "execution_count": 7,
      "metadata": {},
      "outputs": [
        {
          "data": {
            "text/plain": [
              "<Node element_id='4:39b4fa34-f736-4657-87d5-9ea4e101fac4:19' labels=frozenset({'Person'}) properties={'name': 'Juno', 'age': 45}>"
            ]
          },
          "execution_count": 7,
          "metadata": {},
          "output_type": "execute_result"
        }
      ],
      "source": [
        "g.set_node_prop ('name', 'Juno', 'age', 45)"
      ]
    },
    {
      "cell_type": "code",
      "execution_count": 8,
      "metadata": {
        "id": "QSX-vVnXyvqM"
      },
      "outputs": [
        {
          "data": {
            "text/plain": [
              "<neo4j._sync.work.result.Result at 0x7f714566d490>"
            ]
          },
          "execution_count": 8,
          "metadata": {},
          "output_type": "execute_result"
        }
      ],
      "source": [
        "g.remove_node_prop('name', 'Juno', 'age')\n"
      ]
    }
  ],
  "metadata": {
    "colab": {
      "authorship_tag": "ABX9TyP3PbKQcmByxycWFPuXUmPm",
      "include_colab_link": true,
      "provenance": []
    },
    "kernelspec": {
      "display_name": "Python 3.9.15 64-bit",
      "language": "python",
      "name": "python3"
    },
    "language_info": {
      "codemirror_mode": {
        "name": "ipython",
        "version": 3
      },
      "file_extension": ".py",
      "mimetype": "text/x-python",
      "name": "python",
      "nbconvert_exporter": "python",
      "pygments_lexer": "ipython3",
      "version": "3.9.15"
    },
    "vscode": {
      "interpreter": {
        "hash": "949777d72b0d2535278d3dc13498b2535136f6dfe0678499012e853ee9abcab1"
      }
    }
  },
  "nbformat": 4,
  "nbformat_minor": 0
}
